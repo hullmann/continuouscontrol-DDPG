{
 "cells": [
  {
   "cell_type": "markdown",
   "metadata": {},
   "source": [
    "# Continuous Control\n",
    "\n",
    "---\n",
    "\n",
    "In this notebook, you will learn how to use the Unity ML-Agents environment for the second project of the [Deep Reinforcement Learning Nanodegree](https://www.udacity.com/course/deep-reinforcement-learning-nanodegree--nd893) program.\n",
    "\n",
    "### 1. Start the Environment\n",
    "\n",
    "We begin by importing the necessary packages.  If the code cell below returns an error, please revisit the project instructions to double-check that you have installed [Unity ML-Agents](https://github.com/Unity-Technologies/ml-agents/blob/master/docs/Installation.md) and [NumPy](http://www.numpy.org/)."
   ]
  },
  {
   "cell_type": "code",
   "execution_count": 1,
   "metadata": {},
   "outputs": [],
   "source": [
    "from unityagents import UnityEnvironment\n",
    "import numpy as np"
   ]
  },
  {
   "cell_type": "markdown",
   "metadata": {},
   "source": [
    "Next, we will start the environment!  **_Before running the code cell below_**, change the `file_name` parameter to match the location of the Unity environment that you downloaded.\n",
    "\n",
    "- **Mac**: `\"path/to/Reacher.app\"`\n",
    "- **Windows** (x86): `\"path/to/Reacher_Windows_x86/Reacher.exe\"`\n",
    "- **Windows** (x86_64): `\"path/to/Reacher_Windows_x86_64/Reacher.exe\"`\n",
    "- **Linux** (x86): `\"path/to/Reacher_Linux/Reacher.x86\"`\n",
    "- **Linux** (x86_64): `\"path/to/Reacher_Linux/Reacher.x86_64\"`\n",
    "- **Linux** (x86, headless): `\"path/to/Reacher_Linux_NoVis/Reacher.x86\"`\n",
    "- **Linux** (x86_64, headless): `\"path/to/Reacher_Linux_NoVis/Reacher.x86_64\"`\n",
    "\n",
    "For instance, if you are using a Mac, then you downloaded `Reacher.app`.  If this file is in the same folder as the notebook, then the line below should appear as follows:\n",
    "```\n",
    "env = UnityEnvironment(file_name=\"Reacher.app\")\n",
    "```"
   ]
  },
  {
   "cell_type": "code",
   "execution_count": 2,
   "metadata": {
    "scrolled": true
   },
   "outputs": [
    {
     "name": "stderr",
     "output_type": "stream",
     "text": [
      "INFO:unityagents:\n",
      "'Academy' started successfully!\n",
      "Unity Academy name: Academy\n",
      "        Number of Brains: 1\n",
      "        Number of External Brains : 1\n",
      "        Lesson number : 0\n",
      "        Reset Parameters :\n",
      "\t\tgoal_speed -> 1.0\n",
      "\t\tgoal_size -> 5.0\n",
      "Unity brain name: ReacherBrain\n",
      "        Number of Visual Observations (per agent): 0\n",
      "        Vector Observation space type: continuous\n",
      "        Vector Observation space size (per agent): 33\n",
      "        Number of stacked Vector Observation: 1\n",
      "        Vector Action space type: continuous\n",
      "        Vector Action space size (per agent): 4\n",
      "        Vector Action descriptions: , , , \n"
     ]
    }
   ],
   "source": [
    "env = UnityEnvironment(file_name='Reacher_Linux_single/Reacher.x86_64')"
   ]
  },
  {
   "cell_type": "markdown",
   "metadata": {},
   "source": [
    "Environments contain **_brains_** which are responsible for deciding the actions of their associated agents. Here we check for the first brain available, and set it as the default brain we will be controlling from Python."
   ]
  },
  {
   "cell_type": "code",
   "execution_count": 3,
   "metadata": {},
   "outputs": [],
   "source": [
    "brain_name = env.brain_names[0]\n",
    "brain = env.brains[brain_name]\n",
    "\n",
    "# get the default brain"
   ]
  },
  {
   "cell_type": "markdown",
   "metadata": {},
   "source": [
    "### 2. Examine the State and Action Spaces\n",
    "\n",
    "In this environment, a double-jointed arm can move to target locations. A reward of `+0.1` is provided for each step that the agent's hand is in the goal location. Thus, the goal of your agent is to maintain its position at the target location for as many time steps as possible.\n",
    "\n",
    "The observation space consists of `33` variables corresponding to position, rotation, velocity, and angular velocities of the arm.  Each action is a vector with four numbers, corresponding to torque applicable to two joints.  Every entry in the action vector must be a number between `-1` and `1`.\n",
    "\n",
    "Run the code cell below to print some information about the environment."
   ]
  },
  {
   "cell_type": "code",
   "execution_count": 4,
   "metadata": {},
   "outputs": [
    {
     "name": "stdout",
     "output_type": "stream",
     "text": [
      "Number of agents: 1\n",
      "Size of each action: 4\n",
      "There are 1 agents. Each observes a state with length: 33\n",
      "The state for the first agent looks like: [ 0.00000000e+00 -4.00000000e+00  0.00000000e+00  1.00000000e+00\n",
      " -0.00000000e+00 -0.00000000e+00 -4.37113883e-08  0.00000000e+00\n",
      "  0.00000000e+00  0.00000000e+00  0.00000000e+00  0.00000000e+00\n",
      "  0.00000000e+00  0.00000000e+00 -1.00000000e+01  0.00000000e+00\n",
      "  1.00000000e+00 -0.00000000e+00 -0.00000000e+00 -4.37113883e-08\n",
      "  0.00000000e+00  0.00000000e+00  0.00000000e+00  0.00000000e+00\n",
      "  0.00000000e+00  0.00000000e+00  5.75471878e+00 -1.00000000e+00\n",
      "  5.55726671e+00  0.00000000e+00  1.00000000e+00  0.00000000e+00\n",
      " -1.68164849e-01]\n"
     ]
    }
   ],
   "source": [
    "# reset the environment\n",
    "env_info = env.reset(train_mode=True)[brain_name]\n",
    "\n",
    "# number of agents\n",
    "num_agents = len(env_info.agents)\n",
    "print('Number of agents:', num_agents)\n",
    "\n",
    "# size of each action\n",
    "action_size = brain.vector_action_space_size\n",
    "print('Size of each action:', action_size)\n",
    "\n",
    "# examine the state space \n",
    "states = env_info.vector_observations\n",
    "state_size = states.shape[1]\n",
    "print('There are {} agents. Each observes a state with length: {}'.format(states.shape[0], state_size))\n",
    "print('The state for the first agent looks like:', states[0])"
   ]
  },
  {
   "cell_type": "markdown",
   "metadata": {},
   "source": [
    "### 3.  Train in the environment\n",
    "\n",
    "In the next code cell, you will learn how to use the Python API to control the agent and receive feedback from the environment.\n",
    "\n",
    "Once this cell is executed, you will watch the agent's performance, if it selects an action at random with each time step.  A window should pop up that allows you to observe the agent, as it moves through the environment.  \n",
    "\n",
    "Of course, as part of the project, you'll have to change the code so that the agent is able to use its experience to gradually choose better actions when interacting with the environment!"
   ]
  },
  {
   "cell_type": "code",
   "execution_count": 5,
   "metadata": {},
   "outputs": [],
   "source": [
    "%load_ext autoreload\n",
    "%autoreload 2\n",
    "%matplotlib inline\n",
    "\n",
    "from ddpg_agentx import OUNoise\n",
    "from collections import namedtuple, deque\n",
    "import matplotlib.pyplot as plt\n",
    "from ddpg_agentx import Agent"
   ]
  },
  {
   "cell_type": "code",
   "execution_count": 6,
   "metadata": {},
   "outputs": [
    {
     "data": {
      "image/png": "[encoded data removed]",
      "text/plain": [
       "<Figure size 432x288 with 1 Axes>"
      ]
     },
     "metadata": {
      "needs_background": "light"
     },
     "output_type": "display_data"
    }
   ],
   "source": [
    "\n",
    "noise = OUNoise(4, 25)\n",
    "x = []\n",
    "for i in range(0, 100):\n",
    "    x.append(noise.sample()[3])\n",
    "    \n",
    "plt.plot(x)\n",
    "plt.show()\n"
   ]
  },
  {
   "cell_type": "code",
   "execution_count": 8,
   "metadata": {
    "scrolled": true
   },
   "outputs": [
    {
     "name": "stdout",
     "output_type": "stream",
     "text": [
      "Episode 1\tAverage Score: 0.38\tScore: 0.38\n",
      "Episode 2\tAverage Score: 0.27\tScore: 0.16\n",
      "Episode 3\tAverage Score: 0.21\tScore: 0.10\n",
      "Episode 4\tAverage Score: 0.16\tScore: 0.00\n",
      "Episode 5\tAverage Score: 0.17\tScore: 0.20\n",
      "Episode 6\tAverage Score: 0.18\tScore: 0.27\n",
      "Episode 7\tAverage Score: 0.24\tScore: 0.59\n",
      "Episode 8\tAverage Score: 0.26\tScore: 0.41\n",
      "Episode 9\tAverage Score: 0.33\tScore: 0.90\n",
      "Episode 10\tAverage Score: 0.37\tScore: 0.68\n",
      "Episode 11\tAverage Score: 0.35\tScore: 0.20\n",
      "Episode 12\tAverage Score: 0.33\tScore: 0.04\n",
      "Episode 13\tAverage Score: 0.34\tScore: 0.53\n",
      "Episode 14\tAverage Score: 0.36\tScore: 0.56\n",
      "Episode 15\tAverage Score: 0.34\tScore: 0.14\n",
      "Episode 16\tAverage Score: 0.33\tScore: 0.14\n",
      "Episode 17\tAverage Score: 0.32\tScore: 0.18\n",
      "Episode 18\tAverage Score: 0.34\tScore: 0.67\n",
      "Episode 19\tAverage Score: 0.33\tScore: 0.20\n",
      "Episode 20\tAverage Score: 0.37\tScore: 1.13\n",
      "Episode 21\tAverage Score: 0.39\tScore: 0.70\n",
      "Episode 22\tAverage Score: 0.38\tScore: 0.21\n",
      "Episode 23\tAverage Score: 0.41\tScore: 1.12\n",
      "Episode 24\tAverage Score: 0.45\tScore: 1.38\n",
      "Episode 25\tAverage Score: 0.48\tScore: 1.02\n",
      "Episode 26\tAverage Score: 0.48\tScore: 0.70\n",
      "Episode 27\tAverage Score: 0.50\tScore: 0.95\n",
      "Episode 28\tAverage Score: 0.52\tScore: 0.90\n",
      "Episode 29\tAverage Score: 0.53\tScore: 0.77\n",
      "Episode 30\tAverage Score: 0.55\tScore: 1.21\n",
      "Episode 31\tAverage Score: 0.54\tScore: 0.21\n",
      "Episode 32\tAverage Score: 0.54\tScore: 0.52\n",
      "Episode 33\tAverage Score: 0.52\tScore: 0.10\n",
      "Episode 34\tAverage Score: 0.51\tScore: 0.03\n",
      "Episode 35\tAverage Score: 0.51\tScore: 0.51\n",
      "Episode 36\tAverage Score: 0.52\tScore: 1.09\n",
      "Episode 37\tAverage Score: 0.54\tScore: 1.03\n",
      "Episode 38\tAverage Score: 0.54\tScore: 0.52\n",
      "Episode 39\tAverage Score: 0.53\tScore: 0.06\n",
      "Episode 40\tAverage Score: 0.52\tScore: 0.32\n",
      "Episode 41\tAverage Score: 0.52\tScore: 0.63\n",
      "Episode 42\tAverage Score: 0.53\tScore: 0.76\n",
      "Episode 43\tAverage Score: 0.53\tScore: 0.63\n",
      "Episode 44\tAverage Score: 0.52\tScore: 0.00\n",
      "Episode 45\tAverage Score: 0.52\tScore: 0.44\n",
      "Episode 46\tAverage Score: 0.52\tScore: 0.63\n",
      "Episode 47\tAverage Score: 0.52\tScore: 0.56\n",
      "Episode 48\tAverage Score: 0.51\tScore: 0.15\n",
      "Episode 49\tAverage Score: 0.52\tScore: 0.67\n",
      "Episode 50\tAverage Score: 0.52\tScore: 0.75\n"
     ]
    },
    {
     "data": {
      "image/png": "[encoded data removed]",
      "text/plain": [
       "<Figure size 432x288 with 1 Axes>"
      ]
     },
     "metadata": {
      "needs_background": "light"
     },
     "output_type": "display_data"
    }
   ],
   "source": [
    "agents = [ Agent(state_size=state_size, action_size=action_size, random_seed=(13+seed)) for seed in range(0, num_agents) ]\n",
    "\n",
    "def ddpg(n_episodes=2000):\n",
    "    scores_deque = deque(maxlen=100)\n",
    "    scores = []\n",
    "    max_score = -np.Inf\n",
    "    for i_episode in range(1, n_episodes+1):\n",
    "        env_info = env.reset(train_mode=True)[brain_name]\n",
    "        states = env_info.vector_observations\n",
    "        for agent in agents:\n",
    "            agent.reset()\n",
    "        scores_agents = np.zeros(num_agents)\n",
    "        while True:\n",
    "            actions = np.array([ agent.act(states[agentNr, :], add_noise=True) for agentNr in range(0, len(agents)) ])\n",
    "            #print(\"RETURNED ACTIONS:\", actions)\n",
    "            env_info = env.step(actions)[brain_name]\n",
    "            next_states = env_info.vector_observations\n",
    "            rewards = env_info.rewards                         # get reward (for each agent)\n",
    "            dones = env_info.local_done                        # see if episode finished\n",
    "            #print(\"RESULTING REWARD:\", rewards)\n",
    "\n",
    "            scores_agents += np.array(env_info.rewards)\n",
    "                        \n",
    "            for agentNr in range(0, len(agents)):\n",
    "                agent.step(states[agentNr,:], actions[agentNr,:], rewards[agentNr], next_states[agentNr], dones[agentNr])\n",
    "            \n",
    "            states = next_states                               # roll over states to next time step\n",
    "            if np.any(dones):                                  # exit loop if episode finished\n",
    "                break\n",
    "\n",
    "        scores.append(scores_agents)\n",
    "        scores_deque.append(np.mean(scores_agents))\n",
    "        print('\\rEpisode {}\\tAverage Score: {:.2f}\\tScore: {:.2f}'.format(i_episode, np.mean(scores_deque), scores_deque[-1], end=\"\"))\n",
    "        if i_episode % 100 == 0:\n",
    "            torch.save(agent.actor_local.state_dict(), 'checkpoint_actor.pth')\n",
    "            torch.save(agent.critic_local.state_dict(), 'checkpoint_critic.pth')\n",
    "            print('\\rEpisode {}\\tAverage Score: {:.2f}'.format(i_episode, np.mean(scores_deque)))\n",
    "\n",
    "    return scores\n",
    "\n",
    "#env_info = env.reset(train_mode=False)[brain_name]     # reset the environment    \n",
    "#print(\"stop\")\n",
    "#states = env_info.vector_observations                  # get the current state (for each agent)\n",
    "\n",
    "scores = ddpg(n_episodes=50)\n",
    "\n",
    "fig = plt.figure()\n",
    "ax = fig.add_subplot(111)\n",
    "plt.plot(np.arange(1, len(scores)+1), [score[0] for score in scores])\n",
    "plt.ylabel('Score')\n",
    "plt.xlabel('Episode #')\n",
    "plt.show()"
   ]
  },
  {
   "cell_type": "code",
   "execution_count": 9,
   "metadata": {},
   "outputs": [
    {
     "name": "stdout",
     "output_type": "stream",
     "text": [
      "[array([0.37999999]), array([0.16]), array([0.1]), array([0.]), array([0.2]), array([0.26999999]), array([0.58999999]), array([0.40999999]), array([0.89999998]), array([0.67999998]), array([0.2]), array([0.04]), array([0.52999999]), array([0.55999999]), array([0.14]), array([0.14]), array([0.18]), array([0.66999999]), array([0.2]), array([1.12999997]), array([0.69999998]), array([0.21]), array([1.11999997]), array([1.37999997]), array([1.01999998]), array([0.69999998]), array([0.94999998]), array([0.89999998]), array([0.76999998]), array([1.20999997]), array([0.21]), array([0.51999999]), array([0.1]), array([0.03]), array([0.50999999]), array([1.08999998]), array([1.02999998]), array([0.51999999]), array([0.06]), array([0.31999999]), array([0.62999999]), array([0.75999998]), array([0.62999999]), array([0.]), array([0.43999999]), array([0.62999999]), array([0.55999999]), array([0.15]), array([0.66999999]), array([0.74999998])]\n"
     ]
    }
   ],
   "source": [
    "print(scores)\n"
   ]
  },
  {
   "cell_type": "markdown",
   "metadata": {},
   "source": [
    "When finished, you can close the environment."
   ]
  },
  {
   "cell_type": "code",
   "execution_count": null,
   "metadata": {},
   "outputs": [],
   "source": [
    "np.mean(np.array([[1,2],[3,4]]), axis=1)"
   ]
  },
  {
   "cell_type": "code",
   "execution_count": null,
   "metadata": {},
   "outputs": [],
   "source": [
    "env.close()"
   ]
  },
  {
   "cell_type": "markdown",
   "metadata": {},
   "source": [
    "### 4. It's Your Turn!\n",
    "\n",
    "Now it's your turn to train your own agent to solve the environment!  When training the environment, set `train_mode=True`, so that the line for resetting the environment looks like the following:\n",
    "```python\n",
    "env_info = env.reset()[brain_name]\n",
    "```"
   ]
  }
 ],
 "metadata": {
  "kernelspec": {
   "display_name": "drlnd",
   "language": "python",
   "name": "drlnd"
  },
  "language_info": {
   "codemirror_mode": {
    "name": "ipython",
    "version": 3
   },
   "file_extension": ".py",
   "mimetype": "text/x-python",
   "name": "python",
   "nbconvert_exporter": "python",
   "pygments_lexer": "ipython3",
   "version": "3.6.9"
  }
 },
 "nbformat": 4,
 "nbformat_minor": 2
}
