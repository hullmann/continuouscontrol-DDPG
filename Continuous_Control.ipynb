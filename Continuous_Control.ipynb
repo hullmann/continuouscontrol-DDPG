{
 "cells": [
  {
   "cell_type": "markdown",
   "metadata": {},
   "source": [
    "# Continuous Control\n",
    "\n",
    "---\n",
    "\n",
    "In this notebook, we solve a Unity ML-Agents environment for the second project of the [Deep Reinforcement Learning Nanodegree](https://www.udacity.com/course/deep-reinforcement-learning-nanodegree--nd893) program.\n",
    "\n",
    "For **TRAINING** the agents, please execute the cells in **Sections 1, 2 and 3.**\n",
    "\n",
    "For **RUNNING** the agents, please execute the cells in **Sections 1, 2 and ___4___.**\n",
    "\n",
    "### 1. Start the Environment\n",
    "\n",
    "We start by defining some hyperparameters:"
   ]
  },
  {
   "cell_type": "code",
   "execution_count": 1,
   "metadata": {},
   "outputs": [],
   "source": [
    "BUFFER_SIZE = int(1e6)  # replay buffer size\n",
    "BATCH_SIZE = 128        # minibatch size\n",
    "UPDATE_INTERVAL = 20    # The number of time steps after which the agents are retrained\n",
    "UPDATE_STEPS = 10       # The number of minibatches that are used for a retraining of the agents"
   ]
  },
  {
   "cell_type": "markdown",
   "metadata": {},
   "source": [
    "Now we configure the Jupyter environment and import the necessary packages. If the code cell below returns an error, please revisit the installation instructions in the project [README.md](https://github.com/hullmann/continuouscontrol-DDPG/blob/master/README.md)."
   ]
  },
  {
   "cell_type": "code",
   "execution_count": 2,
   "metadata": {},
   "outputs": [],
   "source": [
    "%load_ext autoreload\n",
    "%autoreload 2\n",
    "%matplotlib inline\n",
    "\n",
    "from unityagents import UnityEnvironment\n",
    "import numpy as np\n",
    "\n",
    "from IPython.display import clear_output\n",
    "\n",
    "import torch\n",
    "\n",
    "from ddpg_agentx import OUNoise\n",
    "from collections import namedtuple, deque\n",
    "import matplotlib.pyplot as plt\n",
    "from ddpg_agentx import Agent\n",
    "from ddpg_agentx import ReplayBuffer"
   ]
  },
  {
   "cell_type": "markdown",
   "metadata": {},
   "source": [
    "Next, we start the Unity environment!  **_Before running the code cell below_**, please change the `file_name` parameter to match the location of the Unity environment that you downloaded.\n",
    "\n",
    "- **Mac**: `\"Reacher.app\"`\n",
    "- **Windows** (x86): `\"Reacher_Windows_x86/Reacher.exe\"`\n",
    "- **Windows** (x86_64): `\"Reacher_Windows_x86_64/Reacher.exe\"`\n",
    "- **Linux** (x86_64): `\"Reacher_Linux/Reacher.x86_64\"`\n",
    "\n",
    "For instance, if you are using a Mac, then you downloaded `Reacher.app`.  If this file is in the same folder as the notebook, then the line below should appear as follows:\n",
    "```\n",
    "env = UnityEnvironment(file_name=\"Reacher.app\")\n",
    "```"
   ]
  },
  {
   "cell_type": "code",
   "execution_count": 3,
   "metadata": {
    "scrolled": true
   },
   "outputs": [
    {
     "name": "stderr",
     "output_type": "stream",
     "text": [
      "INFO:unityagents:\n",
      "'Academy' started successfully!\n",
      "Unity Academy name: Academy\n",
      "        Number of Brains: 1\n",
      "        Number of External Brains : 1\n",
      "        Lesson number : 0\n",
      "        Reset Parameters :\n",
      "\t\tgoal_size -> 5.0\n",
      "\t\tgoal_speed -> 1.0\n",
      "Unity brain name: ReacherBrain\n",
      "        Number of Visual Observations (per agent): 0\n",
      "        Vector Observation space type: continuous\n",
      "        Vector Observation space size (per agent): 33\n",
      "        Number of stacked Vector Observation: 1\n",
      "        Vector Action space type: continuous\n",
      "        Vector Action space size (per agent): 4\n",
      "        Vector Action descriptions: , , , \n"
     ]
    }
   ],
   "source": [
    "env = UnityEnvironment(file_name='Reacher_Linux/Reacher.x86_64')"
   ]
  },
  {
   "cell_type": "markdown",
   "metadata": {},
   "source": [
    "Environments contain **_brains_** which are responsible for deciding the actions of their associated agents. Here we check for the first brain available, and set it as the default brain we will be controlling from Python."
   ]
  },
  {
   "cell_type": "code",
   "execution_count": 4,
   "metadata": {},
   "outputs": [],
   "source": [
    "brain_name = env.brain_names[0]\n",
    "brain = env.brains[brain_name]"
   ]
  },
  {
   "cell_type": "markdown",
   "metadata": {},
   "source": [
    "### 2. Examine the State and Action Spaces\n",
    "\n",
    "In this environment, a double-jointed arm can move to target locations. A reward of `+0.1` is provided for each step that the agent's hand is in the goal location. Thus, the goal of the agent is to maintain its position at the target location for as many time steps as possible.\n",
    "\n",
    "The observation space consists of `33` variables corresponding to position, rotation, velocity, and angular velocities of the arm.  Each action is a vector with four numbers, corresponding to torque applicable to two joints.  Every entry in the action vector must be a number between `-1` and `1`.\n",
    "\n",
    "The cell below will output some information about the environment and set relevant variables like `action_size` and `state_size`."
   ]
  },
  {
   "cell_type": "code",
   "execution_count": 5,
   "metadata": {},
   "outputs": [
    {
     "name": "stdout",
     "output_type": "stream",
     "text": [
      "Number of agents: 20\n",
      "Size of each action: 4\n",
      "There are 20 agents. Each observes a state with length: 33\n",
      "The state for the first agent looks like: [ 0.00000000e+00 -4.00000000e+00  0.00000000e+00  1.00000000e+00\n",
      " -0.00000000e+00 -0.00000000e+00 -4.37113883e-08  0.00000000e+00\n",
      "  0.00000000e+00  0.00000000e+00  0.00000000e+00  0.00000000e+00\n",
      "  0.00000000e+00  0.00000000e+00 -1.00000000e+01  0.00000000e+00\n",
      "  1.00000000e+00 -0.00000000e+00 -0.00000000e+00 -4.37113883e-08\n",
      "  0.00000000e+00  0.00000000e+00  0.00000000e+00  0.00000000e+00\n",
      "  0.00000000e+00  0.00000000e+00  5.75471878e+00 -1.00000000e+00\n",
      "  5.55726624e+00  0.00000000e+00  1.00000000e+00  0.00000000e+00\n",
      " -1.68164849e-01]\n"
     ]
    }
   ],
   "source": [
    "# reset the environment\n",
    "env_info = env.reset(train_mode=True)[brain_name]\n",
    "\n",
    "# number of agents\n",
    "num_agents = len(env_info.agents)\n",
    "print('Number of agents:', num_agents)\n",
    "\n",
    "# size of each action\n",
    "action_size = brain.vector_action_space_size\n",
    "print('Size of each action:', action_size)\n",
    "\n",
    "# examine the state space \n",
    "states = env_info.vector_observations\n",
    "state_size = states.shape[1]\n",
    "print('There are {} agents. Each observes a state with length: {}'.format(states.shape[0], state_size))\n",
    "print('The state for the first agent looks like:', states[0])"
   ]
  },
  {
   "cell_type": "markdown",
   "metadata": {},
   "source": [
    "### 3.  Training the agents\n",
    "\n",
    "In the next code cell, we train the twenty agents.\n",
    "\n",
    "Please note that they share a common `replaybuffer` that we initialize at the beginning of the cell. This will help them to learn faster. We could also think about sharing the network weights like in A2C and A3C algorithms, but in fact the performance was satisfactory without any weight sharing.\n",
    "\n",
    "The environment is solved if we receive an average reward of more than +30 in 100 episodes. This is already achieved after the first 100 episodes as the average reward quickly rises to almost +40, see the reward plot for the twenty agents in the cell output.\n",
    "\n",
    "After each episode, the model weights are being saved, so that you can stop training anytime and then run the agents based on the last model weights. The model weights contained in the repository have been trained in 100 episodes."
   ]
  },
  {
   "cell_type": "code",
   "execution_count": 6,
   "metadata": {
    "scrolled": false
   },
   "outputs": [
    {
     "name": "stdout",
     "output_type": "stream",
     "text": [
      "Episode 1\tAverage Score: 0.86\tScore: 0.86\n",
      "Episode 2\tAverage Score: 1.31\tScore: 1.76\n",
      "Episode 3\tAverage Score: 1.97\tScore: 3.28\n",
      "Episode 4\tAverage Score: 2.75\tScore: 5.08\n",
      "Episode 5\tAverage Score: 4.34\tScore: 10.72\n",
      "Episode 6\tAverage Score: 6.19\tScore: 15.46\n",
      "Episode 7\tAverage Score: 8.52\tScore: 22.46\n",
      "Episode 8\tAverage Score: 10.99\tScore: 28.29\n",
      "Episode 9\tAverage Score: 13.74\tScore: 35.70\n",
      "Episode 10\tAverage Score: 16.24\tScore: 38.74\n",
      "Episode 11\tAverage Score: 18.32\tScore: 39.19\n",
      "Episode 12\tAverage Score: 20.05\tScore: 39.10\n",
      "Episode 13\tAverage Score: 21.52\tScore: 39.10\n",
      "Episode 14\tAverage Score: 22.80\tScore: 39.41\n",
      "Episode 15\tAverage Score: 23.90\tScore: 39.35\n",
      "Episode 16\tAverage Score: 24.85\tScore: 39.07\n",
      "Episode 17\tAverage Score: 25.69\tScore: 39.07\n",
      "Episode 18\tAverage Score: 26.44\tScore: 39.24\n",
      "Episode 19\tAverage Score: 27.12\tScore: 39.36\n",
      "Episode 20\tAverage Score: 27.73\tScore: 39.30\n",
      "Episode 21\tAverage Score: 28.28\tScore: 39.38\n",
      "Episode 22\tAverage Score: 28.79\tScore: 39.45\n",
      "Episode 23\tAverage Score: 29.25\tScore: 39.28\n",
      "Episode 24\tAverage Score: 29.67\tScore: 39.37\n",
      "Episode 25\tAverage Score: 30.06\tScore: 39.42\n",
      "Episode 26\tAverage Score: 30.41\tScore: 39.27\n",
      "Episode 27\tAverage Score: 30.75\tScore: 39.43\n",
      "Episode 28\tAverage Score: 31.05\tScore: 39.24\n",
      "Episode 29\tAverage Score: 31.33\tScore: 39.11\n",
      "Episode 30\tAverage Score: 31.59\tScore: 39.19\n",
      "Episode 31\tAverage Score: 31.84\tScore: 39.21\n",
      "Episode 32\tAverage Score: 32.07\tScore: 39.34\n",
      "Episode 33\tAverage Score: 32.29\tScore: 39.46\n",
      "Episode 34\tAverage Score: 32.50\tScore: 39.36\n",
      "Episode 35\tAverage Score: 32.69\tScore: 39.26\n",
      "Episode 36\tAverage Score: 32.88\tScore: 39.35\n",
      "Episode 37\tAverage Score: 33.05\tScore: 39.24\n",
      "Episode 38\tAverage Score: 33.21\tScore: 39.24\n",
      "Episode 39\tAverage Score: 33.37\tScore: 39.33\n",
      "Episode 40\tAverage Score: 33.52\tScore: 39.25\n",
      "Episode 41\tAverage Score: 33.65\tScore: 39.12\n",
      "Episode 42\tAverage Score: 33.79\tScore: 39.25\n",
      "Episode 43\tAverage Score: 33.91\tScore: 39.02\n",
      "Episode 44\tAverage Score: 34.03\tScore: 39.11\n",
      "Episode 45\tAverage Score: 34.15\tScore: 39.32\n",
      "Episode 46\tAverage Score: 34.26\tScore: 39.46\n",
      "Episode 47\tAverage Score: 34.37\tScore: 39.41\n",
      "Episode 48\tAverage Score: 34.47\tScore: 39.20\n",
      "Episode 49\tAverage Score: 34.57\tScore: 39.39\n",
      "Episode 50\tAverage Score: 34.67\tScore: 39.34\n",
      "Episode 51\tAverage Score: 34.76\tScore: 39.24\n",
      "Episode 52\tAverage Score: 34.84\tScore: 39.27\n",
      "Episode 53\tAverage Score: 34.93\tScore: 39.48\n",
      "Episode 54\tAverage Score: 35.01\tScore: 39.35\n",
      "Episode 55\tAverage Score: 35.09\tScore: 39.01\n",
      "Episode 56\tAverage Score: 35.15\tScore: 38.93\n",
      "Episode 57\tAverage Score: 35.22\tScore: 39.19\n",
      "Episode 58\tAverage Score: 35.29\tScore: 39.03\n",
      "Episode 59\tAverage Score: 35.35\tScore: 39.08\n",
      "Episode 60\tAverage Score: 35.40\tScore: 38.01\n",
      "Episode 61\tAverage Score: 35.45\tScore: 38.60\n",
      "Episode 62\tAverage Score: 35.50\tScore: 38.73\n",
      "Episode 63\tAverage Score: 35.55\tScore: 38.60\n",
      "Episode 64\tAverage Score: 35.60\tScore: 38.43\n",
      "Episode 65\tAverage Score: 35.63\tScore: 37.85\n",
      "Episode 66\tAverage Score: 35.66\tScore: 37.49\n",
      "Episode 67\tAverage Score: 35.69\tScore: 37.78\n",
      "Episode 68\tAverage Score: 35.74\tScore: 38.67\n",
      "Episode 69\tAverage Score: 35.78\tScore: 38.74\n",
      "Episode 70\tAverage Score: 35.81\tScore: 37.56\n",
      "Episode 71\tAverage Score: 35.85\tScore: 38.85\n",
      "Episode 72\tAverage Score: 35.89\tScore: 38.87\n",
      "Episode 73\tAverage Score: 35.94\tScore: 39.25\n",
      "Episode 74\tAverage Score: 35.97\tScore: 38.71\n",
      "Episode 75\tAverage Score: 36.01\tScore: 38.72\n",
      "Episode 76\tAverage Score: 36.05\tScore: 38.78\n",
      "Episode 77\tAverage Score: 36.08\tScore: 38.45\n",
      "Episode 78\tAverage Score: 36.12\tScore: 39.05\n",
      "Episode 79\tAverage Score: 36.15\tScore: 38.88\n",
      "Episode 80\tAverage Score: 36.18\tScore: 38.80\n",
      "Episode 81\tAverage Score: 36.22\tScore: 39.25\n",
      "Episode 82\tAverage Score: 36.26\tScore: 38.96\n",
      "Episode 83\tAverage Score: 36.29\tScore: 38.77\n",
      "Episode 84\tAverage Score: 36.32\tScore: 39.10\n",
      "Episode 85\tAverage Score: 36.35\tScore: 39.23\n",
      "Episode 86\tAverage Score: 36.39\tScore: 39.21\n",
      "Episode 87\tAverage Score: 36.42\tScore: 39.03\n",
      "Episode 88\tAverage Score: 36.45\tScore: 39.10\n",
      "Episode 89\tAverage Score: 36.48\tScore: 39.16\n",
      "Episode 90\tAverage Score: 36.51\tScore: 39.31\n",
      "Episode 91\tAverage Score: 36.54\tScore: 39.25\n",
      "Episode 92\tAverage Score: 36.57\tScore: 39.15\n",
      "Episode 93\tAverage Score: 36.60\tScore: 39.16\n",
      "Episode 94\tAverage Score: 36.62\tScore: 39.21\n",
      "Episode 95\tAverage Score: 36.65\tScore: 39.28\n",
      "Episode 96\tAverage Score: 36.68\tScore: 39.27\n",
      "Episode 97\tAverage Score: 36.71\tScore: 39.23\n",
      "Episode 98\tAverage Score: 36.73\tScore: 39.33\n",
      "Episode 99\tAverage Score: 36.76\tScore: 39.14\n",
      "Episode 100\tAverage Score: 36.78\tScore: 39.33\n"
     ]
    },
    {
     "data": {
      "image/png": "[encoded data removed]",
      "text/plain": [
       "<Figure size 432x288 with 1 Axes>"
      ]
     },
     "metadata": {
      "needs_background": "light"
     },
     "output_type": "display_data"
    }
   ],
   "source": [
    "\n",
    "replaybuffer = ReplayBuffer(action_size, BUFFER_SIZE, BATCH_SIZE, 13)\n",
    "\n",
    "agents = [ Agent(state_size=state_size, action_size=action_size, random_seed=(13+seed), memory=replaybuffer) for seed in range(0, num_agents) ]\n",
    "\n",
    "\n",
    "def ddpg(n_episodes=2000):\n",
    "    scores_deque = deque(maxlen=100)\n",
    "    scores = []\n",
    "    max_score = -np.Inf\n",
    "    for i_episode in range(1, n_episodes+1):\n",
    "        env_info = env.reset(train_mode=True)[brain_name]\n",
    "        states = env_info.vector_observations\n",
    "        for agent in agents:\n",
    "            agent.reset()\n",
    "        scores_agents = np.zeros(num_agents)\n",
    "        for t in range(0, 2000):\n",
    "            actions = np.array([ agent.act(states[agentNr, :], add_noise=True) for agentNr in range(0, len(agents)) ])\n",
    "            #print(\"RETURNED ACTIONS:\", actions)\n",
    "            env_info = env.step(actions)[brain_name]\n",
    "            next_states = env_info.vector_observations\n",
    "            rewards = env_info.rewards                         # get reward (for each agent)\n",
    "            dones = env_info.local_done                        # see if episode finished\n",
    "            #print(\"RESULTING REWARD:\", rewards)\n",
    "\n",
    "            scores_agents += np.array(env_info.rewards)\n",
    "            \n",
    "            for agentNr in range(0, len(agents)):\n",
    "                agent.step(states[agentNr,:], actions[agentNr,:], rewards[agentNr], next_states[agentNr], dones[agentNr],\n",
    "                           learn_loops=UPDATE_STEPS if t%UPDATE_INTERVAL==0 and t > 0 else 0)\n",
    "            \n",
    "            states = next_states                               # roll over states to next time step\n",
    "            if np.any(dones):                                  # exit loop if episode finished\n",
    "                break\n",
    "\n",
    "        scores.append(scores_agents)\n",
    "        scores_deque.append(np.mean(scores_agents))\n",
    "        print('\\rEpisode {}\\tAverage Score: {:.2f}\\tScore: {:.2f}'.format(i_episode, np.mean(scores_deque), scores_deque[-1], end=\"\"))\n",
    "        \n",
    "        for agentNr in range(0, num_agents):\n",
    "            torch.save(agents[agentNr].actor_local.state_dict(), 'model_weights/checkpoint_actor_{0}.pth'.format(agentNr))\n",
    "            torch.save(agents[agentNr].critic_local.state_dict(), 'model_weights/checkpoint_critic_{0}.pth'.format(agentNr))\n",
    "\n",
    "    return scores\n",
    "\n",
    "scores = ddpg(n_episodes=100)\n",
    "\n",
    "fig = plt.figure()\n",
    "ax = fig.add_subplot(111)\n",
    "plt.plot(np.arange(1, len(scores)+1), [np.mean([score[agentNr] for agentNr in range(0, num_agents)]) for score in scores], linewidth=4)\n",
    "for agentNr in range(0, num_agents):\n",
    "    plt.plot(np.arange(1, len(scores)+1), [score[agentNr] for score in scores])\n",
    "plt.ylabel('Score')\n",
    "plt.xlabel('Episode #')\n",
    "plt.show()"
   ]
  },
  {
   "cell_type": "markdown",
   "metadata": {},
   "source": [
    "### 4. Running the agents\n",
    "\n",
    "Now we can finally run the agents. If you experience problems with the Unity environment, reset the IPython kernel and execute the cells from the beginning -- without the training step, of course. The following cell reads in the model weights that have been written to the disk lastly.\n",
    "\n",
    "You can observe the agents in the Unity window. Please note that it is now in full size as opposed to the training step, because we set `train_mode=False` in the call to `env.reset`. Also, when calling the `act` functions of the agents, we set `add_noise=False`, because this is only helpful when training the agents (think of the similarity to Dropout layers that are only active during training)."
   ]
  },
  {
   "cell_type": "code",
   "execution_count": null,
   "metadata": {},
   "outputs": [],
   "source": [
    "replaybuffer = ReplayBuffer(action_size, BUFFER_SIZE, BATCH_SIZE, 13)\n",
    "\n",
    "agents = [ Agent(state_size=state_size, action_size=action_size, random_seed=(13+seed), memory=replaybuffer) for seed in range(0, num_agents) ]\n",
    "\n",
    "for agentNr in range(0, num_agents):\n",
    "    agents[agentNr].actor_local.load_state_dict(torch.load('model_weights/checkpoint_actor_{0}.pth'.format(agentNr)))\n",
    "    agents[agentNr].critic_local.load_state_dict(torch.load('model_weights/checkpoint_critic_{0}.pth'.format(agentNr)))\n",
    "\n",
    "def run_ddpg():\n",
    "    env_info = env.reset(train_mode=False)[brain_name]\n",
    "    states = env_info.vector_observations\n",
    "    for agent in agents:\n",
    "        agent.reset()\n",
    "    scores_agents = np.zeros(num_agents)\n",
    "    for t in range(0, 2000):\n",
    "        actions = np.array([ agent.act(states[agentNr, :], add_noise=False) for agentNr in range(0, len(agents)) ])\n",
    "        env_info = env.step(actions)[brain_name]\n",
    "        next_states = env_info.vector_observations\n",
    "        rewards = env_info.rewards                         # get reward (for each agent)\n",
    "        dones = env_info.local_done                        # see if episode finished\n",
    "        scores_agents += np.array(env_info.rewards)\n",
    "        states = next_states                               # roll over states to next time step\n",
    "        if np.any(dones):                                  # exit loop if episode finished\n",
    "            break\n",
    "\n",
    "    print(\"The agents got the following scores: \", scores_agents)\n",
    "    print(\"(mean = {0})\".format(np.mean(scores_agents)))\n",
    "    \n",
    "run_ddpg()"
   ]
  },
  {
   "cell_type": "code",
   "execution_count": null,
   "metadata": {},
   "outputs": [],
   "source": [
    "env.close() # Closes the environment"
   ]
  }
 ],
 "metadata": {
  "kernelspec": {
   "display_name": "drlnd",
   "language": "python",
   "name": "drlnd"
  },
  "language_info": {
   "codemirror_mode": {
    "name": "ipython",
    "version": 3
   },
   "file_extension": ".py",
   "mimetype": "text/x-python",
   "name": "python",
   "nbconvert_exporter": "python",
   "pygments_lexer": "ipython3",
   "version": "3.6.9"
  }
 },
 "nbformat": 4,
 "nbformat_minor": 2
}
